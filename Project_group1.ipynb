{
 "cells": [
  {
   "cell_type": "markdown",
   "id": "b8d88b7b-210b-41e4-ac56-701f926d205d",
   "metadata": {},
   "source": [
    "# Project BBT045\n",
    "Question:\n",
    "> How pharmaceutical pollution affect microbial community composition"
   ]
  },
  {
   "cell_type": "code",
   "execution_count": 7,
   "id": "b398bf9b-47a2-4bb2-9b6c-49607cbb6767",
   "metadata": {},
   "outputs": [],
   "source": [
    "#Load modules\n",
    "#??"
   ]
  },
  {
   "cell_type": "markdown",
   "id": "e46a6853-bd0b-4df4-99ef-dc0d11e94451",
   "metadata": {},
   "source": [
    "# Temporary"
   ]
  },
  {
   "cell_type": "code",
   "execution_count": 2,
   "id": "99dc2ca8-58a3-4453-b1d8-690de0e75386",
   "metadata": {},
   "outputs": [
    {
     "name": "stdout",
     "output_type": "stream",
     "text": [
      "  - importlib-metadata=7.0.1=py310h06a4308_0\n",
      "  - importlib_metadata=7.0.1=hd3eb1b0_0\n",
      "  - metaphlan=4.0.6=pyhca03a8a_0\n"
     ]
    }
   ],
   "source": [
    "# Directories\n",
    "# groupDirectory = /cephyr/NOBACKUP/groups/bbt045_2024/project_group1/\n",
    "# resultsDirectory = /cephyr/NOBACKUP/groups/bbt045_2024/project_group1/results/\n",
    "# dataDirectory = /cephyr/NOBACKUP/groups/bbt045_2024/PROJECT_DATA\n",
    "\n",
    "\n",
    "# Checking stuff, remove later\n",
    "\n",
    "##Check that we have access to the files in the common directory:\n",
    "#with open(\"/cephyr/NOBACKUP/groups/bbt045_2024/project_group1/filelist.txt\") as f: # The with keyword automatically closes the file when you are done\n",
    "#    print(f.read())\n",
    "#    #ref https://stackoverflow.com/questions/18256363/how-do-i-print-the-content-of-a-txt-file-in-python\n",
    "\n",
    "#Search for packages in the softwarelist\n",
    "! grep \"meta\" < /cephyr/NOBACKUP/groups/bbt045_2024/ProjectSoftware/bbt045-projects.yml\n",
    "\n",
    "# Display the files in the data directory\n",
    "#!ls {dataDirectory}\n",
    "\n",
    "# Check variable directory names\n",
    "#!head {dataDirectory}/change_filenames_1.sh"
   ]
  },
  {
   "cell_type": "code",
   "execution_count": 6,
   "id": "2f7ee3e6-d8fe-4358-99d4-be1ed8dac44b",
   "metadata": {},
   "outputs": [
    {
     "name": "stdout",
     "output_type": "stream",
     "text": [
      "/cephyr/NOBACKUP/groups/bbt045_2024/PROJECT_DATA/downstream_1.5km_2012\n",
      "/cephyr/NOBACKUP/groups/bbt045_2024/PROJECT_DATA/downstream_17.5km_2011\n",
      "/cephyr/NOBACKUP/groups/bbt045_2024/PROJECT_DATA/downstream_2.3km_2011\n",
      "/cephyr/NOBACKUP/groups/bbt045_2024/PROJECT_DATA/downstream_2.7km_2011\n",
      "/cephyr/NOBACKUP/groups/bbt045_2024/PROJECT_DATA/effluent_point_2011\n",
      "/cephyr/NOBACKUP/groups/bbt045_2024/PROJECT_DATA/upstream_1.9km_2011\n",
      "/cephyr/NOBACKUP/groups/bbt045_2024/PROJECT_DATA/upstream_150m_2012\n",
      "/cephyr/NOBACKUP/groups/bbt045_2024/PROJECT_DATA/upstream_2.2km_2011\n"
     ]
    }
   ],
   "source": [
    "%%bash\n",
    "DATADIR=/cephyr/NOBACKUP/groups/bbt045_2024/PROJECT_DATA;\n",
    "\n",
    "# Test av loop och filsökning med *:\n",
    "for file in `ls $DATADIR/*_1.fastq.gz  | grep -v \"_lake_\" | sed \"s/_1.fastq.gz//\"`\n",
    "do\n",
    "    echo $file\n",
    "    #outputName=`echo $file | sed \"s/\\/cephyr\\/NOBACKUP\\/groups\\/bbt045_2024\\/PROJECT_DATA\\///\"`\n",
    "    #echo $outputName\n",
    "done"
   ]
  },
  {
   "cell_type": "markdown",
   "id": "00851db5-26e2-4d06-98c0-d64e2345a5df",
   "metadata": {},
   "source": [
    "# TO DO\n",
    "- Text hur vi valde saker\n",
    "- Text hur vi valde inställningar\n",
    "- Referenser: manualer?\n",
    "- Länk till script-filer? Fungerar det i Jupyter?\n",
    "- Uppdatera text med hur scriptet körs?\n",
    "- Ta bort onödiga kommentarer i kodrutorna\n",
    "- Lägg alla batchfiler i en mapp?\n",
    "- Renskriv batchfilernas kommentarer\n",
    "- Kopiera så att det finns två batchfiler för trim? 2012 vs 2011, se kommentarer\n"
   ]
  },
  {
   "cell_type": "markdown",
   "id": "3a452085-4275-4d92-b73a-a3593a1c0b92",
   "metadata": {},
   "source": [
    "# Quality control and trimming"
   ]
  },
  {
   "cell_type": "markdown",
   "id": "4f2f7b23-53c9-4db7-9ebe-934cd58d0819",
   "metadata": {},
   "source": [
    "## FastQC\n",
    "Do FastQC for all samples except those with \"lake\" in their name. "
   ]
  },
  {
   "cell_type": "code",
   "execution_count": 9,
   "id": "5cffa876-2fdc-4d11-a7f1-f52fec73fa8d",
   "metadata": {},
   "outputs": [],
   "source": [
    "%%script false --no-raise-error\n",
    "for file in `ls /cephyr/NOBACKUP/groups/bbt045_2024/PROJECT_DATA/*.fastq.gz | grep -v \"_lake_\"`\n",
    "do\n",
    "    fastqc $file -o /cephyr/NOBACKUP/groups/bbt045_2024/project_group1/results/fastqc\n",
    "done\n",
    "\n",
    "#Tekniskt sett är det detta som körs:\n",
    "for file in `ls *.fastq.gz | grep -v \"_lake_\"`\n",
    "do\n",
    "    apptainer exec $CONTAINER_LOC fastqc $file -o $WORKING_TMP\n",
    "done"
   ]
  },
  {
   "cell_type": "markdown",
   "id": "659262ab-e7e5-4ed5-bec9-3ed749330fd1",
   "metadata": {},
   "source": [
    "## Bash script for trimmomatic"
   ]
  },
  {
   "cell_type": "markdown",
   "id": "56414c34-ecc2-44c1-a134-116c0888428c",
   "metadata": {},
   "source": [
    "The following sbatch script is to run trimmomatic on all samples except those with \"_lake_\" in their name\n",
    "\n",
    "NOTE:\n",
    "- Behövde använda -phred64 på 2011-filerna, gav error på dem annars när jag körde den. När ska köra 2012-filerna: byt ut år i `cp`och `-phred64` till `-phred33`\n",
    "\n",
    "Paired End Mode:\n",
    "ref: http://www.usadellab.org/cms/?page=trimmomatic\n",
    "> trimmomatic PE [-threads <threads>] [-phred33 | -phred64] [-trimlog <logFile>] <input 1> <input 2> <paired output 1> <unpaired output 1> <paired output 2> <unpaired output 2> <step 1> ..."
   ]
  },
  {
   "cell_type": "code",
   "execution_count": 3,
   "id": "0a2de5c1-1d24-4483-902f-39a22a3a5cb9",
   "metadata": {
    "scrolled": true
   },
   "outputs": [],
   "source": [
    "%%script false --no-raise-error\n",
    "# Extra för min förståelse, ta bort?\n",
    "WORKDIR=/cephyr/NOBACKUP/groups/bbt045_2024/project_group1/results/trimmomatic;\n",
    "WORKING_TMP=$TMPDIR/TRIM_TMP;\n",
    "\n",
    "mkdir $WORKING_TMP;\n",
    "cd $WORKING_TMP;\n",
    "\n",
    "cp /cephyr/NOBACKUP/groups/bbt045_2024/PROJECT_DATA/*2011*.fastq.gz $WORKING_TMP\n",
    "\n",
    "### Running Trimmomatic\n",
    "for file in `ls *_1.fastq.gz  | grep -v \"_lake_\" | sed \"s/_1.fastq.gz//\"`\n",
    "do\n",
    "    apptainer exec $CONTAINER_LOC trimmomatic PE -phred64 \\\n",
    "                    $file\\_1.fastq.gz $file\\_2.fastq.gz \\\n",
    "                    $file\\_1.trimmed.fastq.gz $file\\_1.un.trimmed.fastq.gz \\\n",
    "                    $file\\_2.trimmed.fastq.gz $file\\_2.un.trimmed.fastq.gz \\\n",
    "                    TOPHRED33 \\\n",
    "                    LEADING:30 TRAILING:30 \\\n",
    "                    MINLEN:60\n",
    "done\n",
    "\n",
    "\n",
    "# Extra, ta bort:\n",
    "    #question: does this output the files in $WORKING_TMP? Or do we need to add this before the output file names?\n",
    "            # or do we need to remove everything but the name and use that instead of $file as below?\n",
    "    #question/look at output: autodetect phred score? (run one of each and see? 33 first)\n",
    "    #question Paria/Alva: vilket score ska vi använda?\n",
    "    #question: Need to remove adapters? Nearly no present?\n",
    "    #question: trimmomatic phred score? TOPHRED64 if already PHRED64??\n",
    "\n",
    "    #ls $file\\_1.fastq.gz $file\\_2.fastq.gz\n",
    "    #apptainer exec $CONTAINER_LOC trim_galore --quality 20 --length 60 --cores 8 --paired -o /cephyr/NOBACKUP/groups/bbt045_2024/projectAliceRita5 $i\\_1.fastq.gz $i\\_2.fastq.gz\n",
    "\n",
    "# Johan brukar altid trimma adapters innan uppladdning, kanske därför vi inte ser några i fastqc-output"
   ]
  },
  {
   "cell_type": "markdown",
   "id": "65b5fa4f-2be9-40d9-a947-43bcd1c76e28",
   "metadata": {},
   "source": [
    "# FastQC (again)\n",
    "Körde fastqc igen, fast denna gång på alla filer i project_group1/results/trimmomatic/"
   ]
  },
  {
   "cell_type": "code",
   "execution_count": 10,
   "id": "680540de-51b4-45c1-875d-66d9956a21f5",
   "metadata": {},
   "outputs": [],
   "source": [
    "%%script false --no-raise-error\n",
    "for file in `ls /cephyr/NOBACKUP/groups/bbt045_2024/PROJECT_DATA/*.fastq.gz | grep -v \"_lake_\"`\n",
    "do\n",
    "    fastqc $file -o /cephyr/NOBACKUP/groups/bbt045_2024/project_group1/results/fastqc\n",
    "done\n",
    "\n",
    "#Tekniskt sett är det detta som körs:\n",
    "for file in `ls *.fastq.gz | grep -v \"_lake_\"`\n",
    "do\n",
    "    apptainer exec $CONTAINER_LOC fastqc $file -o $WORKING_TMP\n",
    "done"
   ]
  },
  {
   "cell_type": "markdown",
   "id": "24199954-802e-47b5-8f66-75009a5eefc7",
   "metadata": {},
   "source": [
    "# Metaphlan4\n",
    "\n",
    "Running metaphlan4\n",
    "\n",
    "Wiki: https://github.com/biobakery/biobakery/wiki/metaphlan4 "
   ]
  },
  {
   "cell_type": "code",
   "execution_count": 7,
   "id": "7229c561-7a17-4bc7-8f33-a9b0f927d612",
   "metadata": {},
   "outputs": [],
   "source": [
    "%%script false --no-raise-error\n",
    "for file in `ls *.fastq.gz | grep -v \".un.trimmed.fastq.gz\"| sed \"s/_1.trimmed.fastq.gz//\"`\n",
    "do\n",
    "    apptainer exec $CONTAINER_LOC metaphlan $file\\_1.trimmed.fastq.gz,$file\\_2.trimmed.fastq.gz \\\n",
    "                                            --input_type fastq --nproc 4 \\\n",
    "                                            \n",
    "done\n",
    "for i in SRS*.fasta.gz; do metaphlan $i --input_type fasta --nproc 4 > ${i%.fasta.gz}_profile.txt; done\n",
    "\n",
    "#todo Lägga till: ?\n",
    "# --unclassified_estimation (kanske roligt att veta?)\n",
    "# --add_viruses (eller inte eftersom det är microbial community, --> ≠ virus?)\n",
    "# Kontrollera size av --bowtie2out $file.bowtie2.bz2 efter första testet, giganorm fil?"
   ]
  },
  {
   "cell_type": "markdown",
   "id": "5d83a37e-6fd0-404c-8d67-62b6e2cf42fc",
   "metadata": {},
   "source": [
    "## Visualizing metaphlan output"
   ]
  },
  {
   "cell_type": "code",
   "execution_count": 8,
   "id": "4183c7e8-50f7-4bd1-be14-7cbfd944f93e",
   "metadata": {},
   "outputs": [],
   "source": [
    "%%script false --no-raise-error\n",
    "# Merge the _profile tables for each sample into a single file\n",
    "merge_metaphlan_tables.py *_profile.txt > merged_abundance_table.txt\n",
    "#ref: https://github.com/biobakery/biobakery/wiki/metaphlan4#16-merging-metaphlan-profiles\n",
    "\n",
    "# Isolate the species-resolved rows and then remove clutter \n",
    "grep -E \"s__|SRS\" merged_abundance_table.txt \\\n",
    "    grep -v \"t__\" \\\n",
    "    sed \"s/^.*|//g\" \\\n",
    "    sed \"s/SRS[0-9]*-//g\" \\\n",
    "    > merged_abundance_table_species.txt\n",
    "#ref https://github.com/biobakery/biobakery/wiki/metaphlan4#211-generate-a-species-only-abundance-table\n",
    "\n",
    "#todo förbättra kommentarer ovan, se ref:s för mer info"
   ]
  }
 ],
 "metadata": {
  "kernelspec": {
   "display_name": "Python 3 (ipykernel)",
   "language": "python",
   "name": "python3"
  },
  "language_info": {
   "codemirror_mode": {
    "name": "ipython",
    "version": 3
   },
   "file_extension": ".py",
   "mimetype": "text/x-python",
   "name": "python",
   "nbconvert_exporter": "python",
   "pygments_lexer": "ipython3",
   "version": "3.10.13"
  }
 },
 "nbformat": 4,
 "nbformat_minor": 5
}
