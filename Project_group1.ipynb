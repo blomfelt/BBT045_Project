{
 "cells": [
  {
   "cell_type": "markdown",
   "id": "b8d88b7b-210b-41e4-ac56-701f926d205d",
   "metadata": {},
   "source": [
    "# Project BBT045\n",
    "Question:\n",
    "> How pharmaceutical pollution affect microbial community composition"
   ]
  },
  {
   "cell_type": "code",
   "execution_count": 7,
   "id": "0a75b21b-cc37-48bb-b463-4391dda2dce3",
   "metadata": {},
   "outputs": [
    {
     "name": "stdout",
     "output_type": "stream",
     "text": [
      "#data located at /cephyr/NOBACKUP/groups/bbt045_2024/PROJECT_DATA\n",
      "downstream_1.5km_2012_1.fastq.gz\n",
      "downstream_1.5km_2012_2.fastq.gz\n",
      "downstream_17.5km_2011_1.fastq.gz\n",
      "downstream_17.5km_2011_2.fastq.gz\n",
      "downstream_2.3km_2011_1.fastq.gz\n",
      "downstream_2.3km_2011_2.fastq.gz\n",
      "downstream_2.7km_2011_1.fastq.gz\n",
      "downstream_2.7km_2011_2.fastq.gz\n",
      "effluent_point_2011_1.fastq.gz\n",
      "effluent_point_2011_2.fastq.gz\n",
      "upstream_1.9km_2011_1.fastq.gz\n",
      "upstream_1.9km_2011_2.fastq.gz\n",
      "upstream_150m_2012_1.fastq.gz\n",
      "upstream_150m_2012_2.fastq.gz\n",
      "upstream_2.2km_2011_1.fastq.gz\n",
      "upstream_2.2km_2011_2.fastq.gz\n",
      "\n"
     ]
    }
   ],
   "source": [
    "#Check that we have access to the files in the common directory:\n",
    "with open(\"/cephyr/NOBACKUP/groups/bbt045_2024/project_group1/filelist.txt\") as f: # The with keyword automatically closes the file when you are done\n",
    "    print(f.read())\n",
    "    #ref https://stackoverflow.com/questions/18256363/how-do-i-print-the-content-of-a-txt-file-in-python"
   ]
  }
 ],
 "metadata": {
  "kernelspec": {
   "display_name": "Python 3 (ipykernel)",
   "language": "python",
   "name": "python3"
  },
  "language_info": {
   "codemirror_mode": {
    "name": "ipython",
    "version": 3
   },
   "file_extension": ".py",
   "mimetype": "text/x-python",
   "name": "python",
   "nbconvert_exporter": "python",
   "pygments_lexer": "ipython3",
   "version": "3.10.8"
  }
 },
 "nbformat": 4,
 "nbformat_minor": 5
}
