{
 "cells": [
  {
   "cell_type": "markdown",
   "id": "b8d88b7b-210b-41e4-ac56-701f926d205d",
   "metadata": {},
   "source": [
    "# Project BBT045\n",
    "Question:\n",
    "> How pharmaceutical pollution affect microbial community composition"
   ]
  },
  {
   "cell_type": "code",
   "execution_count": 7,
   "id": "b398bf9b-47a2-4bb2-9b6c-49607cbb6767",
   "metadata": {},
   "outputs": [],
   "source": [
    "#Load modules\n",
    "#??\n",
    "\n",
    "# Setup directories\n",
    "groupDirectory = \"/cephyr/NOBACKUP/groups/bbt045_2024/project_group1/\"\n",
    "resultsDirectory = \"/cephyr/NOBACKUP/groups/bbt045_2024/project_group1/results/\"\n",
    "dataDirectory = \"/cephyr/NOBACKUP/groups/bbt045_2024/PROJECT_DATA\""
   ]
  },
  {
   "cell_type": "markdown",
   "id": "e46a6853-bd0b-4df4-99ef-dc0d11e94451",
   "metadata": {},
   "source": [
    "# Temporary"
   ]
  },
  {
   "cell_type": "code",
   "execution_count": 45,
   "id": "99dc2ca8-58a3-4453-b1d8-690de0e75386",
   "metadata": {},
   "outputs": [
    {
     "name": "stdout",
     "output_type": "stream",
     "text": [
      "  - importlib-metadata=7.0.1=py310h06a4308_0\n",
      "  - importlib_metadata=7.0.1=hd3eb1b0_0\n",
      "  - metaphlan=4.0.6=pyhca03a8a_0\n",
      "asanikunta_lake_2012_1.fastq.gz    effluent_point_2011_1.fastq.gz\n",
      "asanikunta_lake_2012_2.fastq.gz    effluent_point_2011_2.fastq.gz\n",
      "change_filenames_1.sh\t\t   kazipally_lake_2011_1.fastq.gz\n",
      "change_filenames_2.sh\t\t   kazipally_lake_2011_2.fastq.gz\n",
      "download_script.sh\t\t   kazipally_lake_2012_1.fastq.gz\n",
      "downstream_1.5km_2012_1.fastq.gz   kazipally_lake_2012_2.fastq.gz\n",
      "downstream_1.5km_2012_2.fastq.gz   upstream_1.9km_2011_1.fastq.gz\n",
      "downstream_17.5km_2011_1.fastq.gz  upstream_1.9km_2011_2.fastq.gz\n",
      "downstream_17.5km_2011_2.fastq.gz  upstream_150m_2012_1.fastq.gz\n",
      "downstream_2.3km_2011_1.fastq.gz   upstream_150m_2012_2.fastq.gz\n",
      "downstream_2.3km_2011_2.fastq.gz   upstream_2.2km_2011_1.fastq.gz\n",
      "downstream_2.7km_2011_1.fastq.gz   upstream_2.2km_2011_2.fastq.gz\n",
      "downstream_2.7km_2011_2.fastq.gz\n"
     ]
    }
   ],
   "source": [
    "# Checking stuff, remove later\n",
    "\n",
    "##Check that we have access to the files in the common directory:\n",
    "#with open(\"/cephyr/NOBACKUP/groups/bbt045_2024/project_group1/filelist.txt\") as f: # The with keyword automatically closes the file when you are done\n",
    "#    print(f.read())\n",
    "#    #ref https://stackoverflow.com/questions/18256363/how-do-i-print-the-content-of-a-txt-file-in-python\n",
    "\n",
    "#Search for packages in the softwarelist\n",
    "! grep \"meta\" < /cephyr/NOBACKUP/groups/bbt045_2024/ProjectSoftware/bbt045-projects.yml\n",
    "\n",
    "# Display the files in the data directory\n",
    "#!ls {dataDirectory}\n",
    "\n",
    "# Check variable directory names\n",
    "#!head {dataDirectory}/change_filenames_1.sh"
   ]
  },
  {
   "cell_type": "markdown",
   "id": "3a452085-4275-4d92-b73a-a3593a1c0b92",
   "metadata": {},
   "source": [
    "# Quality control and trimming"
   ]
  },
  {
   "cell_type": "markdown",
   "id": "4f2f7b23-53c9-4db7-9ebe-934cd58d0819",
   "metadata": {},
   "source": [
    "## FastQC\n",
    "Do FastQC for all samples except those with \"lake\" in their name. "
   ]
  },
  {
   "cell_type": "code",
   "execution_count": 51,
   "id": "5cffa876-2fdc-4d11-a7f1-f52fec73fa8d",
   "metadata": {},
   "outputs": [
    {
     "name": "stdout",
     "output_type": "stream",
     "text": [
      "/cephyr/NOBACKUP/groups/bbt045_2024/PROJECT_DATA/downstream_1.5km_2012_1.fastq.gz\n",
      "/cephyr/NOBACKUP/groups/bbt045_2024/PROJECT_DATA/downstream_1.5km_2012_2.fastq.gz\n",
      "/cephyr/NOBACKUP/groups/bbt045_2024/PROJECT_DATA/downstream_17.5km_2011_1.fastq.gz\n",
      "/cephyr/NOBACKUP/groups/bbt045_2024/PROJECT_DATA/downstream_17.5km_2011_2.fastq.gz\n",
      "/cephyr/NOBACKUP/groups/bbt045_2024/PROJECT_DATA/downstream_2.3km_2011_1.fastq.gz\n",
      "/cephyr/NOBACKUP/groups/bbt045_2024/PROJECT_DATA/downstream_2.3km_2011_2.fastq.gz\n",
      "/cephyr/NOBACKUP/groups/bbt045_2024/PROJECT_DATA/downstream_2.7km_2011_1.fastq.gz\n",
      "/cephyr/NOBACKUP/groups/bbt045_2024/PROJECT_DATA/downstream_2.7km_2011_2.fastq.gz\n",
      "/cephyr/NOBACKUP/groups/bbt045_2024/PROJECT_DATA/effluent_point_2011_1.fastq.gz\n",
      "/cephyr/NOBACKUP/groups/bbt045_2024/PROJECT_DATA/effluent_point_2011_2.fastq.gz\n",
      "/cephyr/NOBACKUP/groups/bbt045_2024/PROJECT_DATA/upstream_1.9km_2011_1.fastq.gz\n",
      "/cephyr/NOBACKUP/groups/bbt045_2024/PROJECT_DATA/upstream_1.9km_2011_2.fastq.gz\n",
      "/cephyr/NOBACKUP/groups/bbt045_2024/PROJECT_DATA/upstream_150m_2012_1.fastq.gz\n",
      "/cephyr/NOBACKUP/groups/bbt045_2024/PROJECT_DATA/upstream_150m_2012_2.fastq.gz\n",
      "/cephyr/NOBACKUP/groups/bbt045_2024/PROJECT_DATA/upstream_2.2km_2011_1.fastq.gz\n",
      "/cephyr/NOBACKUP/groups/bbt045_2024/PROJECT_DATA/upstream_2.2km_2011_2.fastq.gz\n"
     ]
    }
   ],
   "source": [
    "%%bash\n",
    "for file in `ls /cephyr/NOBACKUP/groups/bbt045_2024/PROJECT_DATA/*.fastq.gz | grep -v \"_lake_\"`\n",
    "do\n",
    "    ls $file\n",
    "    #fastqc $file -o /cephyr/NOBACKUP/groups/bbt045_2024/project_group1/results/fastqc\n",
    "done"
   ]
  },
  {
   "cell_type": "markdown",
   "id": "659262ab-e7e5-4ed5-bec9-3ed749330fd1",
   "metadata": {},
   "source": [
    "## Bash script for trimmomatic"
   ]
  },
  {
   "cell_type": "markdown",
   "id": "56414c34-ecc2-44c1-a134-116c0888428c",
   "metadata": {},
   "source": [
    "The following bash script is to run trimmomatic on all samples except those with \"_lake_\" in their name\n",
    "\n",
    "Paired End Mode:\n",
    "ref: http://www.usadellab.org/cms/?page=trimmomatic\n",
    "> trimmomatic PE [-threads <threads>] [-phred33 | -phred64] [-trimlog <logFile>] <input 1> <input 2> <paired output 1> <unpaired output 1> <paired output 2> <unpaired output 2> <step 1> ..."
   ]
  },
  {
   "cell_type": "code",
   "execution_count": 4,
   "id": "0a2de5c1-1d24-4483-902f-39a22a3a5cb9",
   "metadata": {
    "scrolled": true
   },
   "outputs": [
    {
     "name": "stdout",
     "output_type": "stream",
     "text": [
      "trimmomatic PE -threads 8 -trimlog /cephyr/NOBACKUP/groups/bbt045_2024/project_group1//logs//cephyr/NOBACKUP/groups/bbt045_2024/PROJECT_DATA/downstream_17.5km_2011\\_trimmomatic_log.txt                     /cephyr/NOBACKUP/groups/bbt045_2024/PROJECT_DATA/downstream_17.5km_2011\\_1.fastq.gz /cephyr/NOBACKUP/groups/bbt045_2024/PROJECT_DATA/downstream_17.5km_2011\\_2.fastq.gz                     /cephyr/NOBACKUP/groups/bbt045_2024/PROJECT_DATA/downstream_17.5km_2011\\_1.trimmed.gz /cephyr/NOBACKUP/groups/bbt045_2024/PROJECT_DATA/downstream_17.5km_2011\\_1.untrimmed.gz                     /cephyr/NOBACKUP/groups/bbt045_2024/PROJECT_DATA/downstream_17.5km_2011\\_2.trimmed.gz /cephyr/NOBACKUP/groups/bbt045_2024/PROJECT_DATA/downstream_17.5km_2011\\_2.untrimmed.gz                     LEADING:20 TRAILING:20                     MINLEN:60\n",
      "/cephyr/NOBACKUP/groups/bbt045_2024/PROJECT_DATA/downstream_17.5km_2011\n",
      " \n",
      "trimmomatic PE -threads 8 -trimlog /cephyr/NOBACKUP/groups/bbt045_2024/project_group1//logs//cephyr/NOBACKUP/groups/bbt045_2024/PROJECT_DATA/downstream_2.3km_2011\\_trimmomatic_log.txt                     /cephyr/NOBACKUP/groups/bbt045_2024/PROJECT_DATA/downstream_2.3km_2011\\_1.fastq.gz /cephyr/NOBACKUP/groups/bbt045_2024/PROJECT_DATA/downstream_2.3km_2011\\_2.fastq.gz                     /cephyr/NOBACKUP/groups/bbt045_2024/PROJECT_DATA/downstream_2.3km_2011\\_1.trimmed.gz /cephyr/NOBACKUP/groups/bbt045_2024/PROJECT_DATA/downstream_2.3km_2011\\_1.untrimmed.gz                     /cephyr/NOBACKUP/groups/bbt045_2024/PROJECT_DATA/downstream_2.3km_2011\\_2.trimmed.gz /cephyr/NOBACKUP/groups/bbt045_2024/PROJECT_DATA/downstream_2.3km_2011\\_2.untrimmed.gz                     LEADING:20 TRAILING:20                     MINLEN:60\n",
      "/cephyr/NOBACKUP/groups/bbt045_2024/PROJECT_DATA/downstream_2.3km_2011\n",
      " \n",
      "trimmomatic PE -threads 8 -trimlog /cephyr/NOBACKUP/groups/bbt045_2024/project_group1//logs//cephyr/NOBACKUP/groups/bbt045_2024/PROJECT_DATA/downstream_2.7km_2011\\_trimmomatic_log.txt                     /cephyr/NOBACKUP/groups/bbt045_2024/PROJECT_DATA/downstream_2.7km_2011\\_1.fastq.gz /cephyr/NOBACKUP/groups/bbt045_2024/PROJECT_DATA/downstream_2.7km_2011\\_2.fastq.gz                     /cephyr/NOBACKUP/groups/bbt045_2024/PROJECT_DATA/downstream_2.7km_2011\\_1.trimmed.gz /cephyr/NOBACKUP/groups/bbt045_2024/PROJECT_DATA/downstream_2.7km_2011\\_1.untrimmed.gz                     /cephyr/NOBACKUP/groups/bbt045_2024/PROJECT_DATA/downstream_2.7km_2011\\_2.trimmed.gz /cephyr/NOBACKUP/groups/bbt045_2024/PROJECT_DATA/downstream_2.7km_2011\\_2.untrimmed.gz                     LEADING:20 TRAILING:20                     MINLEN:60\n",
      "/cephyr/NOBACKUP/groups/bbt045_2024/PROJECT_DATA/downstream_2.7km_2011\n",
      " \n",
      "trimmomatic PE -threads 8 -trimlog /cephyr/NOBACKUP/groups/bbt045_2024/project_group1//logs//cephyr/NOBACKUP/groups/bbt045_2024/PROJECT_DATA/effluent_point_2011\\_trimmomatic_log.txt                     /cephyr/NOBACKUP/groups/bbt045_2024/PROJECT_DATA/effluent_point_2011\\_1.fastq.gz /cephyr/NOBACKUP/groups/bbt045_2024/PROJECT_DATA/effluent_point_2011\\_2.fastq.gz                     /cephyr/NOBACKUP/groups/bbt045_2024/PROJECT_DATA/effluent_point_2011\\_1.trimmed.gz /cephyr/NOBACKUP/groups/bbt045_2024/PROJECT_DATA/effluent_point_2011\\_1.untrimmed.gz                     /cephyr/NOBACKUP/groups/bbt045_2024/PROJECT_DATA/effluent_point_2011\\_2.trimmed.gz /cephyr/NOBACKUP/groups/bbt045_2024/PROJECT_DATA/effluent_point_2011\\_2.untrimmed.gz                     LEADING:20 TRAILING:20                     MINLEN:60\n",
      "/cephyr/NOBACKUP/groups/bbt045_2024/PROJECT_DATA/effluent_point_2011\n",
      " \n",
      "trimmomatic PE -threads 8 -trimlog /cephyr/NOBACKUP/groups/bbt045_2024/project_group1//logs//cephyr/NOBACKUP/groups/bbt045_2024/PROJECT_DATA/upstream_1.9km_2011\\_trimmomatic_log.txt                     /cephyr/NOBACKUP/groups/bbt045_2024/PROJECT_DATA/upstream_1.9km_2011\\_1.fastq.gz /cephyr/NOBACKUP/groups/bbt045_2024/PROJECT_DATA/upstream_1.9km_2011\\_2.fastq.gz                     /cephyr/NOBACKUP/groups/bbt045_2024/PROJECT_DATA/upstream_1.9km_2011\\_1.trimmed.gz /cephyr/NOBACKUP/groups/bbt045_2024/PROJECT_DATA/upstream_1.9km_2011\\_1.untrimmed.gz                     /cephyr/NOBACKUP/groups/bbt045_2024/PROJECT_DATA/upstream_1.9km_2011\\_2.trimmed.gz /cephyr/NOBACKUP/groups/bbt045_2024/PROJECT_DATA/upstream_1.9km_2011\\_2.untrimmed.gz                     LEADING:20 TRAILING:20                     MINLEN:60\n",
      "/cephyr/NOBACKUP/groups/bbt045_2024/PROJECT_DATA/upstream_1.9km_2011\n",
      " \n",
      "trimmomatic PE -threads 8 -trimlog /cephyr/NOBACKUP/groups/bbt045_2024/project_group1//logs//cephyr/NOBACKUP/groups/bbt045_2024/PROJECT_DATA/upstream_2.2km_2011\\_trimmomatic_log.txt                     /cephyr/NOBACKUP/groups/bbt045_2024/PROJECT_DATA/upstream_2.2km_2011\\_1.fastq.gz /cephyr/NOBACKUP/groups/bbt045_2024/PROJECT_DATA/upstream_2.2km_2011\\_2.fastq.gz                     /cephyr/NOBACKUP/groups/bbt045_2024/PROJECT_DATA/upstream_2.2km_2011\\_1.trimmed.gz /cephyr/NOBACKUP/groups/bbt045_2024/PROJECT_DATA/upstream_2.2km_2011\\_1.untrimmed.gz                     /cephyr/NOBACKUP/groups/bbt045_2024/PROJECT_DATA/upstream_2.2km_2011\\_2.trimmed.gz /cephyr/NOBACKUP/groups/bbt045_2024/PROJECT_DATA/upstream_2.2km_2011\\_2.untrimmed.gz                     LEADING:20 TRAILING:20                     MINLEN:60\n",
      "/cephyr/NOBACKUP/groups/bbt045_2024/PROJECT_DATA/upstream_2.2km_2011\n",
      " \n"
     ]
    }
   ],
   "source": [
    "%%bash\n",
    "### Running Trim Galore\n",
    "# Possible to test this in jupyter using the commented `ls` part of the loop instead of the `apptainer` part\n",
    "\n",
    "WORKDIR=/cephyr/NOBACKUP/groups/bbt045_2024/project_group1/;\n",
    "WORKING_TMP=$TMPDIR/TRIM_TMP;\n",
    "#mkdir $WORKING_TMP;\n",
    "#cd $WORKING_TMP;\n",
    "Kopiera in  /cephyr/NOBACKUP/groups/bbt045_2024/PROJECT_DATA/\n",
    "\n",
    "\n",
    "\n",
    "for file in `ls*_1.fastq.gz  | grep -v \"_lake_\" | sed \"s/_1.fastq.gz//\"`\n",
    "do\n",
    "    echo \"trimmomatic PE -threads 8 -phred64 -trimlog $WORKDIR/logs/$file\\_trimmomatic_log.txt \\\n",
    "                    $file\\_1.fastq.gz $file\\_2.fastq.gz \\\n",
    "                    $file\\_1.trimmed.gz $file\\_1.untrimmed.gz \\\n",
    "                    $file\\_2.trimmed.gz $file\\_2.untrimmed.gz \\\n",
    "                    LEADING:20 TRAILING:20 \\\n",
    "                    MINLEN:60\"\n",
    "    echo $file\n",
    "    echo \" \"\n",
    "    #question: does this output the files in $WORKING_TMP? Or do we need to add this before the output file names?\n",
    "            # or do we need to remove everything but the name and use that instead of $file as below?\n",
    "    #question/look at output: autodetect phred score? (run one of each and see? 33 first)\n",
    "    #question Paria/Alva: vilket score ska vi använda?\n",
    "    #question: Need to remove adapters? Nearly no present?\n",
    "    #question: trimmomatic phred score? TOPHRED64 if already PHRED64??\n",
    "\n",
    "    #ls $file\\_1.fastq.gz $file\\_2.fastq.gz\n",
    "    #apptainer exec $CONTAINER_LOC trim_galore --quality 20 --length 60 --cores 8 --paired -o /cephyr/NOBACKUP/groups/bbt045_2024/projectAliceRita5 $i\\_1.fastq.gz $i\\_2.fastq.gz\n",
    "done\n",
    "\n",
    "\n",
    "\n",
    "cp out allt\n",
    "# johan brukar altid trimma adapters inna uppladdnign"
   ]
  },
  {
   "cell_type": "code",
   "execution_count": 9,
   "id": "2f7ee3e6-d8fe-4358-99d4-be1ed8dac44b",
   "metadata": {},
   "outputs": [
    {
     "name": "stdout",
     "output_type": "stream",
     "text": [
      "/cephyr/NOBACKUP/groups/bbt045_2024/PROJECT_DATA/downstream_1.5km_2012\n",
      "/cephyr/NOBACKUP/groups/bbt045_2024/PROJECT_DATA/downstream_17.5km_2011\n",
      "/cephyr/NOBACKUP/groups/bbt045_2024/PROJECT_DATA/downstream_2.3km_2011\n",
      "/cephyr/NOBACKUP/groups/bbt045_2024/PROJECT_DATA/downstream_2.7km_2011\n",
      "/cephyr/NOBACKUP/groups/bbt045_2024/PROJECT_DATA/effluent_point_2011\n",
      "/cephyr/NOBACKUP/groups/bbt045_2024/PROJECT_DATA/upstream_1.9km_2011\n",
      "/cephyr/NOBACKUP/groups/bbt045_2024/PROJECT_DATA/upstream_150m_2012\n",
      "/cephyr/NOBACKUP/groups/bbt045_2024/PROJECT_DATA/upstream_2.2km_2011\n"
     ]
    }
   ],
   "source": [
    "%%bash\n",
    "DATADIR=/cephyr/NOBACKUP/groups/bbt045_2024/PROJECT_DATA;\n",
    "\n",
    "for file in `ls $DATADIR/*_1.fastq.gz  | grep -v \"_lake_\" | sed \"s/_1.fastq.gz//\"`\n",
    "do\n",
    "    echo $file\n",
    "    #outputName=`echo $file | sed \"s/\\/cephyr\\/NOBACKUP\\/groups\\/bbt045_2024\\/PROJECT_DATA\\///\"`\n",
    "    #echo $outputName\n",
    "done"
   ]
  },
  {
   "cell_type": "code",
   "execution_count": null,
   "id": "e44113f7-be17-47ba-a480-c2750d4b4ac2",
   "metadata": {},
   "outputs": [],
   "source": []
  }
 ],
 "metadata": {
  "kernelspec": {
   "display_name": "Python 3 (ipykernel)",
   "language": "python",
   "name": "python3"
  },
  "language_info": {
   "codemirror_mode": {
    "name": "ipython",
    "version": 3
   },
   "file_extension": ".py",
   "mimetype": "text/x-python",
   "name": "python",
   "nbconvert_exporter": "python",
   "pygments_lexer": "ipython3",
   "version": "3.10.13"
  }
 },
 "nbformat": 4,
 "nbformat_minor": 5
}
